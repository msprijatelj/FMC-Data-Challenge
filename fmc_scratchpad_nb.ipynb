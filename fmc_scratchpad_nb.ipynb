{
 "metadata": {
  "language_info": {
   "codemirror_mode": {
    "name": "ipython",
    "version": 3
   },
   "file_extension": ".py",
   "mimetype": "text/x-python",
   "name": "python",
   "nbconvert_exporter": "python",
   "pygments_lexer": "ipython3",
   "version": "3.7.9-final"
  },
  "orig_nbformat": 2,
  "kernelspec": {
   "name": "python3",
   "display_name": "Python 3.7.9 64-bit ('.venv': venv)",
   "metadata": {
    "interpreter": {
     "hash": "fdde27448e1bf181b1ab7c133cd58e664e1f3818526612b02b38b86328b5c24f"
    }
   }
  }
 },
 "nbformat": 4,
 "nbformat_minor": 2,
 "cells": [
  {
   "cell_type": "code",
   "execution_count": 4,
   "metadata": {},
   "outputs": [],
   "source": [
    "import pandas as pd"
   ]
  },
  {
   "cell_type": "code",
   "execution_count": 39,
   "metadata": {},
   "outputs": [
    {
     "output_type": "execute_result",
     "data": {
      "text/plain": [
       "array(['California', nan], dtype=object)"
      ]
     },
     "metadata": {},
     "execution_count": 39
    }
   ],
   "source": [
    "df = pd.read_csv('field_trap_data.csv')\n",
    "df.head()\n",
    "df.pest.unique() # Diamondback Moth\n",
    "df.region.unique() # California, nan\n",
    "df.crop_name.unique() # Broccoli, Brussels sprout\n",
    "df.trap_id_id.unique() # [27,  84,  89,  93,  94, 100, 108, 110, 112, 114]\n",
    "\n",
    "# Missing fields in \"region\", Region is fuzzy anyway, so use lat/lon instead\n",
    "# Only pest is the Diamondback Moth, no NaNs, so no comparison possible\n",
    "# Can control on crop names if desired\n",
    "# Date can be used for seasonality/comparing traps\n",
    "# trap_count is the \"dependent variable\" in this situation\n",
    "# \"is_sticky_sheet_replaced\" needs clarification. Replaced when?\n",
    "# Trap_id_id is going to be limited in usage, ID isn't necessary when aggregating here\n"
   ]
  },
  {
   "cell_type": "code",
   "execution_count": null,
   "metadata": {},
   "outputs": [],
   "source": []
  }
 ]
}